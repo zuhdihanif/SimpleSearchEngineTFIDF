{
 "cells": [
  {
   "cell_type": "code",
   "execution_count": 3,
   "metadata": {},
   "outputs": [
    {
     "name": "stdout",
     "output_type": "stream",
     "text": [
      "Note: you may need to restart the kernel to use updated packages.Collecting scikit-learn\n",
      "  Downloading scikit_learn-1.2.1-cp310-cp310-win_amd64.whl (8.3 MB)\n",
      "     ---------------------------------------- 8.3/8.3 MB 3.7 MB/s eta 0:00:00\n",
      "Collecting joblib>=1.1.1\n",
      "  Using cached joblib-1.2.0-py3-none-any.whl (297 kB)\n",
      "Collecting threadpoolctl>=2.0.0\n",
      "  Using cached threadpoolctl-3.1.0-py3-none-any.whl (14 kB)\n",
      "Collecting scipy>=1.3.2\n",
      "  Downloading scipy-1.10.0-cp310-cp310-win_amd64.whl (42.5 MB)\n",
      "     ---------------------------------------- 42.5/42.5 MB 1.5 MB/s eta 0:00:00\n",
      "Collecting numpy>=1.17.3\n",
      "  Downloading numpy-1.24.2-cp310-cp310-win_amd64.whl (14.8 MB)\n",
      "     ---------------------------------------- 14.8/14.8 MB 1.4 MB/s eta 0:00:00\n",
      "Installing collected packages: threadpoolctl, numpy, joblib, scipy, scikit-learn\n",
      "Successfully installed joblib-1.2.0 numpy-1.24.2 scikit-learn-1.2.1 scipy-1.10.0 threadpoolctl-3.1.0\n",
      "\n"
     ]
    },
    {
     "name": "stderr",
     "output_type": "stream",
     "text": [
      "\n",
      "[notice] A new release of pip available: 22.3.1 -> 23.0\n",
      "[notice] To update, run: python.exe -m pip install --upgrade pip\n"
     ]
    }
   ],
   "source": [
    "pip install -U scikit-learn\n"
   ]
  },
  {
   "cell_type": "code",
   "execution_count": 6,
   "metadata": {},
   "outputs": [
    {
     "name": "stdout",
     "output_type": "stream",
     "text": [
      "Collecting flask\n",
      "  Using cached Flask-2.2.2-py3-none-any.whl (101 kB)\n",
      "Collecting itsdangerous>=2.0\n",
      "  Using cached itsdangerous-2.1.2-py3-none-any.whl (15 kB)\n",
      "Collecting click>=8.0\n",
      "  Using cached click-8.1.3-py3-none-any.whl (96 kB)\n",
      "Collecting Jinja2>=3.0\n",
      "  Using cached Jinja2-3.1.2-py3-none-any.whl (133 kB)\n",
      "Collecting Werkzeug>=2.2.2\n",
      "  Using cached Werkzeug-2.2.2-py3-none-any.whl (232 kB)\n",
      "Requirement already satisfied: colorama in c:\\users\\m zuhdi hanif\\flask\\.venv\\lib\\site-packages (from click>=8.0->flask) (0.4.6)\n",
      "Collecting MarkupSafe>=2.0\n",
      "  Downloading MarkupSafe-2.1.2-cp310-cp310-win_amd64.whl (16 kB)\n",
      "Installing collected packages: MarkupSafe, itsdangerous, click, Werkzeug, Jinja2, flask\n",
      "Successfully installed Jinja2-3.1.2 MarkupSafe-2.1.2 Werkzeug-2.2.2 click-8.1.3 flask-2.2.2 itsdangerous-2.1.2\n",
      "Note: you may need to restart the kernel to use updated packages.\n"
     ]
    },
    {
     "name": "stderr",
     "output_type": "stream",
     "text": [
      "\n",
      "[notice] A new release of pip available: 22.3.1 -> 23.0\n",
      "[notice] To update, run: python.exe -m pip install --upgrade pip\n"
     ]
    }
   ],
   "source": [
    "pip install flask"
   ]
  },
  {
   "cell_type": "code",
   "execution_count": 1,
   "metadata": {},
   "outputs": [],
   "source": [
    "from sklearn.feature_extraction.text import TfidfVectorizer\n",
    "import joblib"
   ]
  },
  {
   "cell_type": "code",
   "execution_count": 2,
   "metadata": {},
   "outputs": [
    {
     "name": "stderr",
     "output_type": "stream",
     "text": [
      "c:\\Users\\M Zuhdi Hanif\\Flask\\.venv\\lib\\site-packages\\sklearn\\base.py:299: UserWarning: Trying to unpickle estimator TfidfTransformer from version 1.0.2 when using version 1.2.1. This might lead to breaking code or invalid results. Use at your own risk. For more info please refer to:\n",
      "https://scikit-learn.org/stable/model_persistence.html#security-maintainability-limitations\n",
      "  warnings.warn(\n",
      "c:\\Users\\M Zuhdi Hanif\\Flask\\.venv\\lib\\site-packages\\sklearn\\base.py:299: UserWarning: Trying to unpickle estimator TfidfVectorizer from version 1.0.2 when using version 1.2.1. This might lead to breaking code or invalid results. Use at your own risk. For more info please refer to:\n",
      "https://scikit-learn.org/stable/model_persistence.html#security-maintainability-limitations\n",
      "  warnings.warn(\n"
     ]
    }
   ],
   "source": [
    "loaded_tfidf = joblib.load(\"tfidf_model.pkl\")\n",
    "with open('df.txt', 'r', encoding=\"utf8\") as file:\n",
    "    df = file.read()"
   ]
  },
  {
   "cell_type": "code",
   "execution_count": 1,
   "metadata": {},
   "outputs": [
    {
     "name": "stdout",
     "output_type": "stream",
     "text": [
      " * Serving Flask app '__main__'\n",
      " * Debug mode: off\n"
     ]
    },
    {
     "name": "stderr",
     "output_type": "stream",
     "text": [
      "WARNING: This is a development server. Do not use it in a production deployment. Use a production WSGI server instead.\n",
      " * Running on http://127.0.0.1:5000\n",
      "Press CTRL+C to quit\n",
      "127.0.0.1 - - [07/Feb/2023 19:26:10] \"GET / HTTP/1.1\" 200 -\n",
      "127.0.0.1 - - [07/Feb/2023 19:26:11] \"GET /favicon.ico HTTP/1.1\" 404 -\n",
      "[2023-02-07 19:26:14,597] ERROR in app: Exception on /test [POST]\n",
      "Traceback (most recent call last):\n",
      "  File \"c:\\Users\\M Zuhdi Hanif\\Flask\\.venv\\lib\\site-packages\\flask\\app.py\", line 2525, in wsgi_app\n",
      "    response = self.full_dispatch_request()\n",
      "  File \"c:\\Users\\M Zuhdi Hanif\\Flask\\.venv\\lib\\site-packages\\flask\\app.py\", line 1822, in full_dispatch_request\n",
      "    rv = self.handle_user_exception(e)\n",
      "  File \"c:\\Users\\M Zuhdi Hanif\\Flask\\.venv\\lib\\site-packages\\flask\\app.py\", line 1820, in full_dispatch_request\n",
      "    rv = self.dispatch_request()\n",
      "  File \"c:\\Users\\M Zuhdi Hanif\\Flask\\.venv\\lib\\site-packages\\flask\\app.py\", line 1796, in dispatch_request\n",
      "    return self.ensure_sync(self.view_functions[rule.endpoint])(**view_args)\n",
      "  File \"C:\\Users\\M Zuhdi Hanif\\AppData\\Local\\Temp\\ipykernel_14664\\1891819132.py\", line 13, in print_text\n",
      "    return render_template(\"index.html\", result = text)\n",
      "  File \"c:\\Users\\M Zuhdi Hanif\\Flask\\.venv\\lib\\site-packages\\flask\\templating.py\", line 147, in render_template\n",
      "    return _render(app, template, context)\n",
      "  File \"c:\\Users\\M Zuhdi Hanif\\Flask\\.venv\\lib\\site-packages\\flask\\templating.py\", line 130, in _render\n",
      "    rv = template.render(context)\n",
      "  File \"c:\\Users\\M Zuhdi Hanif\\Flask\\.venv\\lib\\site-packages\\jinja2\\environment.py\", line 1301, in render\n",
      "    self.environment.handle_exception()\n",
      "  File \"c:\\Users\\M Zuhdi Hanif\\Flask\\.venv\\lib\\site-packages\\jinja2\\environment.py\", line 936, in handle_exception\n",
      "    raise rewrite_traceback_stack(source=source)\n",
      "  File \"c:\\Users\\M Zuhdi Hanif\\Flask\\templates\\index.html\", line 8, in top-level template code\n",
      "    <img id=\"gender\" src=\"{{url_for('webcam_1')}}\">\n",
      "  File \"c:\\Users\\M Zuhdi Hanif\\Flask\\.venv\\lib\\site-packages\\flask\\app.py\", line 2031, in url_for\n",
      "    return self.handle_url_build_error(error, endpoint, values)\n",
      "  File \"c:\\Users\\M Zuhdi Hanif\\Flask\\.venv\\lib\\site-packages\\flask\\app.py\", line 2020, in url_for\n",
      "    rv = url_adapter.build(  # type: ignore[union-attr]\n",
      "  File \"c:\\Users\\M Zuhdi Hanif\\Flask\\.venv\\lib\\site-packages\\werkzeug\\routing\\map.py\", line 917, in build\n",
      "    raise BuildError(endpoint, values, method, self)\n",
      "werkzeug.routing.exceptions.BuildError: Could not build url for endpoint 'webcam_1'. Did you mean 'home' instead?\n",
      "127.0.0.1 - - [07/Feb/2023 19:26:14] \"POST /test HTTP/1.1\" 500 -\n"
     ]
    },
    {
     "name": "stdout",
     "output_type": "stream",
     "text": [
      "mama\n"
     ]
    }
   ],
   "source": [
    "from flask import Flask, render_template, Response, request, url_for, jsonify\n",
    "app = Flask(__name__)\n",
    "\n",
    "@app.route(\"/\")\n",
    "@app.route(\"/home\")\n",
    "def home():\n",
    "    return render_template ('search.html')\n",
    "\n",
    "@app.route('/test', methods=['POST'])\n",
    "def print_text():\n",
    "    text = request.form['text_input']\n",
    "    print(text)\n",
    "    return render_template(\"index.html\", result = text)\n",
    "@app.route(\"/search\", methods=['POST'])\n",
    "def search_engine():\n",
    "    cari = request.form['text_input']\n",
    "    df = df.split('.')\n",
    "    df = [x.lower() for x in df]\n",
    "    v_kalimat = loaded_tfidf.transform(df)\n",
    "    v_kalimat = v_kalimat.toarray()\n",
    "    v_cari = loaded_tfidf.transform([cari]).toarray()\n",
    "    indeks = 0\n",
    "    hasil = 0\n",
    "    from sklearn.metrics.pairwise import cosine_similarity\n",
    "    for i,v in enumerate(v_kalimat):\n",
    "        mirip= cosine_similarity([v],v_cari)\n",
    "        if mirip > hasil:\n",
    "            hasil = mirip\n",
    "            indeks = i\n",
    "    print(df[indeks])\n",
    "    return render_template (\"search.html\", result = indeks)\n",
    "\n",
    "if __name__ == \"__main__\":\n",
    "    app.run()"
   ]
  }
 ],
 "metadata": {
  "kernelspec": {
   "display_name": ".venv",
   "language": "python",
   "name": "python3"
  },
  "language_info": {
   "codemirror_mode": {
    "name": "ipython",
    "version": 3
   },
   "file_extension": ".py",
   "mimetype": "text/x-python",
   "name": "python",
   "nbconvert_exporter": "python",
   "pygments_lexer": "ipython3",
   "version": "3.10.9"
  },
  "orig_nbformat": 4,
  "vscode": {
   "interpreter": {
    "hash": "277bd5af1f1236c6cfd6879a6371774e78780223903a25020397a0281b40c05d"
   }
  }
 },
 "nbformat": 4,
 "nbformat_minor": 2
}
